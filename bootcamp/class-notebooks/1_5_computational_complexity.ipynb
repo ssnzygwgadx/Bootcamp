{
 "cells": [
  {
   "cell_type": "markdown",
   "metadata": {},
   "source": [
    "# Computational Complexity and Big O Notation"
   ]
  },
  {
   "cell_type": "markdown",
   "metadata": {},
   "source": [
    "We now understand something about algorithms - steps that are performed (typically by a computer) that complete a particular process. We can consider the following things to be true of algorithms:\n",
    "* An algorithm is unambiguous and the steps are explicit;\n",
    "* An algorithm expects a specified set of inputs;\n",
    "* An algorithm produces a defined output;\n",
    "* An algorithm, if correctly created and presented with an expected set of inputs, is guaranteed to terminate and produce a result;\n",
    "* If an algorithm has specific pre-conditions (e.g. specific input formats), those conditions must be met.\n",
    "\n",
    "However, how may we consider the speed of an algorithm? Let's consider the following:"
   ]
  },
  {
   "cell_type": "code",
   "execution_count": 1,
   "metadata": {},
   "outputs": [
    {
     "name": "stdout",
     "output_type": "stream",
     "text": [
      "Algorithm has started\n",
      "Number # 1 is 1\n",
      "Number # 2 is 2\n",
      "Number # 3 is 3\n",
      "Number # 4 is 4\n",
      "Number # 5 is 5\n"
     ]
    }
   ],
   "source": [
    "'''\n",
    "Input:\n",
    "a - a list of numbers\n",
    "\n",
    "Ouput:\n",
    "A series of strings expressing the count and the number in the list\n",
    "'''\n",
    "\n",
    "def counter(a):\n",
    "    print(\"Algorithm has started\")\n",
    "    counter = 1\n",
    "    for number in a:\n",
    "        print(f\"Number # {counter} is {number}\")\n",
    "        counter += 1 \n",
    "\n",
    "# testing\n",
    "a = [1,2,3,4,5]\n",
    "counter(a)"
   ]
  },
  {
   "cell_type": "markdown",
   "metadata": {},
   "source": [
    "We can consider the following factors to influence the speed of the algorithm:\n",
    "* the compute that we use to run the code,\n",
    "* the number of steps inside the algorithm,\n",
    "* the size of n (the list provided - defined as _a)._\n",
    "\n",
    "We could in fact define this as a formula: <br>\n",
    "$ steps = n * 2 + 2 $ <br><br>\n",
    "We first print that we have started and set counter as one (2x steps). We then take two actions for every value in _a_ ... printing the details and adding one to the counter. In general the 2x steps at the start are largely irrelevant (they will complete very quickly on a modern compueter) so can be ignored. What we may see then is the generally an assessment of the time complexity of an algorithm is tied to the size of the data we use ($ n $). With this in mind we would usually discuss the following categories:"
   ]
  },
  {
   "cell_type": "markdown",
   "metadata": {},
   "source": [
    "## $ O_{(1)} $ Time\n",
    "Our time categories are expressed with the greek letter (unfortunately when writing in January 2022) Omicron. Our first category, $ O_{1} $ time relates to algorithms that do not depend on $ n $ ... they run in constant time. An example is the following:"
   ]
  },
  {
   "cell_type": "code",
   "execution_count": 2,
   "metadata": {},
   "outputs": [
    {
     "name": "stdout",
     "output_type": "stream",
     "text": [
      "Algorithm has started\n",
      "a = [1, 2, 3, 4, 5]\n"
     ]
    }
   ],
   "source": [
    "'''\n",
    "Input:\n",
    "a - a list of numbers\n",
    "\n",
    "Ouput:\n",
    "A series of strings expressing the count and the number in the list\n",
    "'''\n",
    "\n",
    "def counter(a):\n",
    "    print(\"Algorithm has started\")\n",
    "    print(f\"a = {a}\")\n",
    "\n",
    "# testing\n",
    "a = [1,2,3,4,5]\n",
    "counter(a)"
   ]
  },
  {
   "cell_type": "markdown",
   "metadata": {},
   "source": [
    "## $ O_{(n)} $ Time\n",
    "The next cateogory is algorithms that run _linearly_ to the size of $ n $ ... that is that is for every unit of $ n $ we will add one unit of time to the algorithm. As example, we can look at our original function:"
   ]
  },
  {
   "cell_type": "code",
   "execution_count": 3,
   "metadata": {},
   "outputs": [
    {
     "name": "stdout",
     "output_type": "stream",
     "text": [
      "Algorithm has started\n",
      "Number # 1 is 1\n",
      "Number # 2 is 2\n",
      "Number # 3 is 3\n",
      "Number # 4 is 4\n",
      "Number # 5 is 5\n"
     ]
    }
   ],
   "source": [
    "'''\n",
    "Input:\n",
    "a - a list of numbers\n",
    "\n",
    "Ouput:\n",
    "A series of strings expressing the count and the number in the list\n",
    "'''\n",
    "\n",
    "def counter(a):\n",
    "    print(\"Algorithm has started\")\n",
    "    counter = 1\n",
    "    for number in a:\n",
    "        print(f\"Number # {counter} is {number}\")\n",
    "        counter += 1 \n",
    "\n",
    "# testing\n",
    "a = [1,2,3,4,5]\n",
    "counter(a)"
   ]
  },
  {
   "cell_type": "markdown",
   "metadata": {},
   "source": [
    "Note, while we considered above the full expression of time to be according to the formula: <br>\n",
    "$ steps = n * 2 + 2 $ <br>\n",
    "\n",
    "However, in computational complexity we would, as above ignore the \"$ + 2 $\" and in fact we would ignore the \"$ * 2$ \" as well. Ultimately this is just a simplification to make it easier to idenfitfy classes of algorithm."
   ]
  },
  {
   "cell_type": "markdown",
   "metadata": {},
   "source": [
    "## $ O_{(n^2)} $ Time\n",
    "Algorithms of this kind will run something like the quadratic of the size of input ... for every unit of $ n $ the time increases by approximately $ (n + 1)^2 - n^2 $. An example would be:"
   ]
  },
  {
   "cell_type": "code",
   "execution_count": 4,
   "metadata": {},
   "outputs": [
    {
     "name": "stdout",
     "output_type": "stream",
     "text": [
      "Number # 1 is 1\n",
      "\n",
      "\n",
      "Number # 2 is 1\n",
      "Number # 2 is 2\n",
      "\n",
      "\n",
      "Number # 3 is 1\n",
      "Number # 3 is 2\n",
      "Number # 3 is 6\n",
      "\n",
      "\n",
      "Number # 4 is 1\n",
      "Number # 4 is 2\n",
      "Number # 4 is 6\n",
      "Number # 4 is 24\n",
      "\n",
      "\n",
      "Number # 5 is 1\n",
      "Number # 5 is 2\n",
      "Number # 5 is 6\n",
      "Number # 5 is 24\n",
      "Number # 5 is 120\n",
      "\n",
      "\n"
     ]
    }
   ],
   "source": [
    "'''\n",
    "Input:\n",
    "a - a list of numbers\n",
    "\n",
    "Ouput:\n",
    "A series of strings expressing the count and the number in the list\n",
    "'''\n",
    "\n",
    "def cumlative_counter(a):\n",
    "    counter = 1\n",
    "    for number in a:\n",
    "        running_total = 1\n",
    "        for value in a[:number]:\n",
    "            running_total *= value\n",
    "            print(f\"Number # {counter} is {running_total}\")\n",
    "        counter += 1\n",
    "        print(\"\\n\")\n",
    "\n",
    "# testing\n",
    "a = [1,2,3,4,5]\n",
    "cumlative_counter(a)"
   ]
  },
  {
   "cell_type": "markdown",
   "metadata": {},
   "source": [
    "Because our code employs a for loop inside a for loop (both of which depend on $ n $) we can see our time will be certainly greater than $ n $ and approaching $ n^2 $. TL;DR ... for loops in for loops are generally bad news from a complexity perspective so where we can we should avoid them."
   ]
  },
  {
   "cell_type": "markdown",
   "metadata": {},
   "source": [
    "## $ O_{(n^3)} $ Time\n",
    "Algorithms of this kind will run something like the cube of the size of input ... for every unit of $ n $ the time increases by approximately $ (n + 1)^3 - n^3 $. An example would be:"
   ]
  },
  {
   "cell_type": "code",
   "execution_count": 5,
   "metadata": {},
   "outputs": [
    {
     "name": "stdout",
     "output_type": "stream",
     "text": [
      "Number #1 is 10\n",
      "Number #2 is 9\n",
      "Number #3 is 8\n",
      "Number #4 is 7\n",
      "Number #5 is 20\n",
      "Number #6 is 18\n",
      "Number #7 is 16\n",
      "Number #8 is 14\n",
      "Number #9 is 30\n",
      "Number #10 is 27\n",
      "Number #11 is 24\n",
      "Number #12 is 21\n",
      "Number #13 is 40\n",
      "Number #14 is 36\n",
      "Number #15 is 32\n",
      "Number #16 is 28\n",
      "Number #17 is 50\n",
      "Number #18 is 45\n",
      "Number #19 is 40\n",
      "Number #20 is 35\n"
     ]
    }
   ],
   "source": [
    "'''\n",
    "Input:\n",
    "a - a list of numbers\n",
    "b - a list of numbers\n",
    "\n",
    "Ouput:\n",
    "A series of strings expressing the count and the number in the list\n",
    "'''\n",
    "\n",
    "def vector_multiplier(a, b):\n",
    "    counter = 1\n",
    "    for number in a:\n",
    "        for value in b:\n",
    "            print(f\"Number #{counter} is {number * value}\")\n",
    "            counter += 1 \n",
    "\n",
    "# testing\n",
    "a = [1,2,3,4,5]\n",
    "b = [10,9,8,7]\n",
    "vector_multiplier(a, b)"
   ]
  },
  {
   "cell_type": "markdown",
   "metadata": {},
   "source": [
    "You may note, our notion of what $ n $ comprises is a little ambiguous as it is built on two variables: _a_ and _b._ However, we simplify this just to say we have a $ n^3 $ problem."
   ]
  },
  {
   "cell_type": "markdown",
   "metadata": {},
   "source": [
    "## $ O_{(2^n)} $ Time / $ NP $ Problems\n",
    "Algorithms of this kind will run at a speed where $ n $ is the exponent (or worse). Generally we would call these $ NP $ problems (non-deterministic polynomial). In simpler terms, this means that solution would be first guessed (not-deterministically) and then proven in polynomial time. An example would be:"
   ]
  },
  {
   "cell_type": "code",
   "execution_count": 6,
   "metadata": {},
   "outputs": [
    {
     "name": "stdout",
     "output_type": "stream",
     "text": [
      "Fibonacci sequence up to 13 :\n",
      "0\n",
      "1\n",
      "1\n",
      "2\n",
      "3\n",
      "5\n",
      "8\n",
      "13\n",
      "21\n",
      "34\n",
      "55\n",
      "89\n",
      "144\n"
     ]
    }
   ],
   "source": [
    "'''\n",
    "Input:\n",
    "a - a postive integer\n",
    "\n",
    "Ouput:\n",
    "The Fibonacci sequence up to that number\n",
    "'''\n",
    "\n",
    "def fibonacci_generator(a):\n",
    "    if a <= 0:\n",
    "        print(\"Please enter a positive integer\")\n",
    "    elif a == 1:\n",
    "        print(f\"Fibonacci sequence up to {a} :\")\n",
    "        print(0)\n",
    "    else:\n",
    "        print(f\"Fibonacci sequence up to {a} :\")\n",
    "        n1 = 0\n",
    "        n2 = 1\n",
    "        count = 0\n",
    "        while count < a:\n",
    "            print(n1)\n",
    "            nth = n1 + n2\n",
    "            # update values\n",
    "            n1 = n2\n",
    "            n2 = nth\n",
    "            count += 1\n",
    "\n",
    "# testing\n",
    "a = 13\n",
    "fibonacci_generator(a)"
   ]
  },
  {
   "cell_type": "markdown",
   "metadata": {},
   "source": [
    "## Best Case or Worst Case\n",
    "In many algorithms we would not necessarily _have_ to pass through the whole of $ n $ in order to complete ... i.e. the answer to \"how long?\" is _\"it depends\"._ An example:"
   ]
  },
  {
   "cell_type": "code",
   "execution_count": 7,
   "metadata": {},
   "outputs": [
    {
     "name": "stdout",
     "output_type": "stream",
     "text": [
      "Not done\n",
      "Not done\n",
      "Not done\n",
      "Done - in position #3\n"
     ]
    }
   ],
   "source": [
    "'''\n",
    "Input:\n",
    "a - a list of numbers\n",
    "b - a single number\n",
    "\n",
    "Ouput:\n",
    "Finds the location of b in the list a\n",
    "'''\n",
    "\n",
    "def number_list_tester(a, b):\n",
    "    finished = False\n",
    "    counter = 0\n",
    "    for number in a:\n",
    "        if number == b:\n",
    "            print(f\"Done - in position #{counter}\")\n",
    "            finished = True\n",
    "            break\n",
    "        else:\n",
    "            print(\"Not done\")\n",
    "            counter += 1\n",
    "                \n",
    "# testing\n",
    "a = [1,2,3,4,5]\n",
    "b = 4\n",
    "number_list_tester(a, b)"
   ]
  },
  {
   "cell_type": "markdown",
   "metadata": {},
   "source": [
    "If we wanted to consider the quickest time possible to complete the algorithm (\"best case\"), then it would be when _b_ is the first number in _a_ ... i.e. $ time = O_{1} $.\n",
    "\n",
    "If we want to consider the slowest time the algorithm may take to complete (\"worst case\"), then it would be when _b_ is the last number in _a_ ... i.e. $ time = O_{n} $.\n",
    "\n",
    "Lastly, if we want to consider the average time the algorithm may take to complete (\"average case\"), then it would be when _b_ is the middle number in _a_ ... i.e. $ time = O_{0.5n} $.\n",
    "\n",
    "In Big O notation we (almost) always discuss \"worst case\" time complexity."
   ]
  },
  {
   "cell_type": "markdown",
   "metadata": {},
   "source": [
    "## Example: Binary Search\n",
    "Here we will present a simple search function that finds the location of a number in a list and then inserts ... a very classical computer science problem:"
   ]
  },
  {
   "cell_type": "code",
   "execution_count": 8,
   "metadata": {},
   "outputs": [
    {
     "data": {
      "text/plain": [
       "[1, 2, 3, 4, 4, 5]"
      ]
     },
     "execution_count": 8,
     "metadata": {},
     "output_type": "execute_result"
    }
   ],
   "source": [
    "'''\n",
    "Input:\n",
    "a - a list of numbers\n",
    "b - a single number\n",
    "\n",
    "Ouput:\n",
    "Finds the location of b in the list a\n",
    "'''\n",
    "\n",
    "def naive_search(a, b):\n",
    "    inserted = False\n",
    "    for number in range(len(a)):\n",
    "        if a[number] <= b:\n",
    "            if a[number + 1] >= b:\n",
    "                a.insert(number + 1, b)\n",
    "                inserted = True\n",
    "                break\n",
    "            else:\n",
    "                continue\n",
    "    # if not added then add to the end\n",
    "    if inserted == False:\n",
    "        a.append(b)\n",
    "    return a\n",
    "\n",
    "                \n",
    "# testing\n",
    "a = [1,2,3,4,5]\n",
    "b = 4\n",
    "naive_search(a, b)"
   ]
  },
  {
   "cell_type": "markdown",
   "metadata": {},
   "source": [
    "Our code as written would run (worst-case) in linear time - $ O_{n} $ (if _b_ is bigger than any number in _a_ we need to loop through the whole of _a_ before inserting at the end). However, it is possible to do this much faster ... in $ O_{log(n)} $* time. Watch this video to see how its done!\n",
    "\n",
    "[![Binary Search](https://img.youtube.com/vi/iP897Z5Nerk/0.jpg)](https://www.youtube.com/watch?v=iP897Z5Nerk \"Binary Search\")\n",
    "\n",
    "*An algorithm with $ O_{log(n)} $ time will run similar to the logarithmic of the size of the input. For every 1x unit of data, the time increases by time similar to $ 𝑒^{𝑛+1} − 𝑒^𝑛 $. "
   ]
  },
  {
   "cell_type": "markdown",
   "metadata": {},
   "source": [
    "## Exercise\n",
    "Consider the following algorithm:"
   ]
  },
  {
   "cell_type": "code",
   "execution_count": 9,
   "metadata": {},
   "outputs": [
    {
     "name": "stdout",
     "output_type": "stream",
     "text": [
      "Cumlative total is 35\n"
     ]
    }
   ],
   "source": [
    "'''\n",
    "Input:\n",
    "a - a list of numbers\n",
    "\n",
    "Ouput:\n",
    "The cumulative total of each value adding all values before it in the sequence before it\n",
    "'''\n",
    "\n",
    "def cumlative_counter(a):\n",
    "    counter = 0\n",
    "    running_total = 0\n",
    "    for number in a:\n",
    "        for value in a[:counter+1]:\n",
    "            running_total += value\n",
    "        counter += 1\n",
    "    print(\"Cumlative total is \" + str(running_total)) \n",
    "\n",
    "\n",
    "# testing\n",
    "a = [1,2,3,4,5]\n",
    "cumlative_counter(a)"
   ]
  },
  {
   "cell_type": "markdown",
   "metadata": {},
   "source": [
    "As written the algorithm has a complexity of $ O_{n^2} $. However, it can be improved to $ O_{n} $ with a little rearranging. Can you do it?"
   ]
  },
  {
   "cell_type": "code",
   "execution_count": null,
   "metadata": {},
   "outputs": [],
   "source": []
  }
 ],
 "metadata": {
  "kernelspec": {
   "display_name": "Python 3",
   "language": "python",
   "name": "python3"
  },
  "language_info": {
   "codemirror_mode": {
    "name": "ipython",
    "version": 3
   },
   "file_extension": ".py",
   "mimetype": "text/x-python",
   "name": "python",
   "nbconvert_exporter": "python",
   "pygments_lexer": "ipython3",
   "version": "3.8.8"
  }
 },
 "nbformat": 4,
 "nbformat_minor": 4
}
