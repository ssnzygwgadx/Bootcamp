{
 "cells": [
  {
   "cell_type": "markdown",
   "metadata": {},
   "source": [
    "# Further Feature Engineering"
   ]
  },
  {
   "cell_type": "markdown",
   "metadata": {},
   "source": [
    "Continuing on from our previous session on EDA, this Notebook includes further code for performing feature engineering. Rather than following a specific process, instead we will include a few examples of different things you may want to do:"
   ]
  },
  {
   "cell_type": "markdown",
   "metadata": {},
   "source": [
    "## Dealing with Categorical Data"
   ]
  },
  {
   "cell_type": "markdown",
   "metadata": {},
   "source": [
    "Essentially all ML requires our data to be numerical (at the point of analysis) but quite often we get data which is text. While we could just ignore this, it is often desireable to apply some form of transformation to numerical values.\n",
    "\n",
    "If our data is binary (one of two options) this is quite easy. E.g. let's consider a feature which is \"hasPhD?\" with a \"yes\" for people who have one and \"no\" for the rest. We can easily transform this with an if statement like below (using _np.where()_ for inline calculation of a whole DataFrame but it works the same as an if):"
   ]
  },
  {
   "cell_type": "code",
   "execution_count": 1,
   "metadata": {},
   "outputs": [
    {
     "name": "stdout",
     "output_type": "stream",
     "text": [
      "   a hasPhD?\n",
      "0  1     yes\n",
      "1  2     yes\n",
      "2  3      no\n",
      "3  4      no\n",
      "4  5      no\n",
      "\n",
      "\n",
      "   a  hasPhD?\n",
      "0  1        1\n",
      "1  2        1\n",
      "2  3        0\n",
      "3  4        0\n",
      "4  5        0\n"
     ]
    }
   ],
   "source": [
    "import pandas as pd\n",
    "import numpy as np\n",
    "\n",
    "# create example dataframe\n",
    "df = pd.DataFrame({\"a\": [1,2,3,4,5], \"hasPhD?\": [\"yes\", \"yes\", \"no\", \"no\", \"no\"]})\n",
    "print(df)\n",
    "\n",
    "print(\"\\n\")\n",
    "\n",
    "# change \"hasPhD? to numerical values\"\n",
    "df[\"hasPhD?\"] = np.where(df[\"hasPhD?\"] == \"yes\", 1, 0)\n",
    "print(df)"
   ]
  },
  {
   "cell_type": "markdown",
   "metadata": {},
   "source": [
    "This deals with the binary case - how about cases where there are multiple categories?"
   ]
  },
  {
   "cell_type": "code",
   "execution_count": 2,
   "metadata": {},
   "outputs": [
    {
     "data": {
      "text/html": [
       "<div>\n",
       "<style scoped>\n",
       "    .dataframe tbody tr th:only-of-type {\n",
       "        vertical-align: middle;\n",
       "    }\n",
       "\n",
       "    .dataframe tbody tr th {\n",
       "        vertical-align: top;\n",
       "    }\n",
       "\n",
       "    .dataframe thead th {\n",
       "        text-align: right;\n",
       "    }\n",
       "</style>\n",
       "<table border=\"1\" class=\"dataframe\">\n",
       "  <thead>\n",
       "    <tr style=\"text-align: right;\">\n",
       "      <th></th>\n",
       "      <th>a</th>\n",
       "      <th>businessType</th>\n",
       "    </tr>\n",
       "  </thead>\n",
       "  <tbody>\n",
       "    <tr>\n",
       "      <th>0</th>\n",
       "      <td>1</td>\n",
       "      <td>Hospitality</td>\n",
       "    </tr>\n",
       "    <tr>\n",
       "      <th>1</th>\n",
       "      <td>2</td>\n",
       "      <td>IT</td>\n",
       "    </tr>\n",
       "    <tr>\n",
       "      <th>2</th>\n",
       "      <td>3</td>\n",
       "      <td>Education</td>\n",
       "    </tr>\n",
       "    <tr>\n",
       "      <th>3</th>\n",
       "      <td>4</td>\n",
       "      <td>IT</td>\n",
       "    </tr>\n",
       "    <tr>\n",
       "      <th>4</th>\n",
       "      <td>5</td>\n",
       "      <td>Oil</td>\n",
       "    </tr>\n",
       "  </tbody>\n",
       "</table>\n",
       "</div>"
      ],
      "text/plain": [
       "   a businessType\n",
       "0  1  Hospitality\n",
       "1  2           IT\n",
       "2  3    Education\n",
       "3  4           IT\n",
       "4  5          Oil"
      ]
     },
     "execution_count": 2,
     "metadata": {},
     "output_type": "execute_result"
    }
   ],
   "source": [
    "# create example dataframe\n",
    "df = pd.DataFrame({\"a\": [1,2,3,4,5], \"businessType\": [\"Hospitality\", \"IT\", \"Education\", \"IT\", \"Oil\"]})\n",
    "df"
   ]
  },
  {
   "cell_type": "markdown",
   "metadata": {},
   "source": [
    "Clearly we can't apply the same trick. Of course, we _could_ assign 1 to \"Hospitatlity\", 2 to \"IT\", 3 to \"Education\" (etc.) ... but is it really meaningful? Could we say $ Hospitality + IT = Education $? Or $ 2 * Hospitality = IT $? These caclulations show such a scheme is not sensible. Instead we use dummy variables:"
   ]
  },
  {
   "cell_type": "code",
   "execution_count": 3,
   "metadata": {},
   "outputs": [
    {
     "data": {
      "text/html": [
       "<div>\n",
       "<style scoped>\n",
       "    .dataframe tbody tr th:only-of-type {\n",
       "        vertical-align: middle;\n",
       "    }\n",
       "\n",
       "    .dataframe tbody tr th {\n",
       "        vertical-align: top;\n",
       "    }\n",
       "\n",
       "    .dataframe thead th {\n",
       "        text-align: right;\n",
       "    }\n",
       "</style>\n",
       "<table border=\"1\" class=\"dataframe\">\n",
       "  <thead>\n",
       "    <tr style=\"text-align: right;\">\n",
       "      <th></th>\n",
       "      <th>a</th>\n",
       "      <th>type__Education</th>\n",
       "      <th>type__Hospitality</th>\n",
       "      <th>type__IT</th>\n",
       "      <th>type__Oil</th>\n",
       "    </tr>\n",
       "  </thead>\n",
       "  <tbody>\n",
       "    <tr>\n",
       "      <th>0</th>\n",
       "      <td>1</td>\n",
       "      <td>0</td>\n",
       "      <td>1</td>\n",
       "      <td>0</td>\n",
       "      <td>0</td>\n",
       "    </tr>\n",
       "    <tr>\n",
       "      <th>1</th>\n",
       "      <td>2</td>\n",
       "      <td>0</td>\n",
       "      <td>0</td>\n",
       "      <td>1</td>\n",
       "      <td>0</td>\n",
       "    </tr>\n",
       "    <tr>\n",
       "      <th>2</th>\n",
       "      <td>3</td>\n",
       "      <td>1</td>\n",
       "      <td>0</td>\n",
       "      <td>0</td>\n",
       "      <td>0</td>\n",
       "    </tr>\n",
       "    <tr>\n",
       "      <th>3</th>\n",
       "      <td>4</td>\n",
       "      <td>0</td>\n",
       "      <td>0</td>\n",
       "      <td>1</td>\n",
       "      <td>0</td>\n",
       "    </tr>\n",
       "    <tr>\n",
       "      <th>4</th>\n",
       "      <td>5</td>\n",
       "      <td>0</td>\n",
       "      <td>0</td>\n",
       "      <td>0</td>\n",
       "      <td>1</td>\n",
       "    </tr>\n",
       "  </tbody>\n",
       "</table>\n",
       "</div>"
      ],
      "text/plain": [
       "   a  type__Education  type__Hospitality  type__IT  type__Oil\n",
       "0  1                0                  1         0          0\n",
       "1  2                0                  0         1          0\n",
       "2  3                1                  0         0          0\n",
       "3  4                0                  0         1          0\n",
       "4  5                0                  0         0          1"
      ]
     },
     "execution_count": 3,
     "metadata": {},
     "output_type": "execute_result"
    }
   ],
   "source": [
    "# generate binary values using get_dummies\n",
    "df = pd.get_dummies(df, columns=[\"businessType\"], prefix=[\"type_\"])\n",
    "df"
   ]
  },
  {
   "cell_type": "markdown",
   "metadata": {},
   "source": [
    "This then achieves our goal - we have each category represented and the data shown, but no issues with dodgy numerical representations "
   ]
  },
  {
   "cell_type": "markdown",
   "metadata": {},
   "source": [
    "## Splitting Features"
   ]
  },
  {
   "cell_type": "markdown",
   "metadata": {},
   "source": [
    "Another common scenario is where we have a text field (typically) in one column and want to split it into two. Take this example:"
   ]
  },
  {
   "cell_type": "code",
   "execution_count": 4,
   "metadata": {},
   "outputs": [
    {
     "data": {
      "text/html": [
       "<div>\n",
       "<style scoped>\n",
       "    .dataframe tbody tr th:only-of-type {\n",
       "        vertical-align: middle;\n",
       "    }\n",
       "\n",
       "    .dataframe tbody tr th {\n",
       "        vertical-align: top;\n",
       "    }\n",
       "\n",
       "    .dataframe thead th {\n",
       "        text-align: right;\n",
       "    }\n",
       "</style>\n",
       "<table border=\"1\" class=\"dataframe\">\n",
       "  <thead>\n",
       "    <tr style=\"text-align: right;\">\n",
       "      <th></th>\n",
       "      <th>a</th>\n",
       "      <th>degree</th>\n",
       "    </tr>\n",
       "  </thead>\n",
       "  <tbody>\n",
       "    <tr>\n",
       "      <th>0</th>\n",
       "      <td>1</td>\n",
       "      <td>MSc eBM</td>\n",
       "    </tr>\n",
       "    <tr>\n",
       "      <th>1</th>\n",
       "      <td>2</td>\n",
       "      <td>BA Art</td>\n",
       "    </tr>\n",
       "    <tr>\n",
       "      <th>2</th>\n",
       "      <td>3</td>\n",
       "      <td>MSc CSM</td>\n",
       "    </tr>\n",
       "    <tr>\n",
       "      <th>3</th>\n",
       "      <td>4</td>\n",
       "      <td>BSc CS</td>\n",
       "    </tr>\n",
       "    <tr>\n",
       "      <th>4</th>\n",
       "      <td>5</td>\n",
       "      <td>MSc eBM</td>\n",
       "    </tr>\n",
       "  </tbody>\n",
       "</table>\n",
       "</div>"
      ],
      "text/plain": [
       "   a   degree\n",
       "0  1  MSc eBM\n",
       "1  2   BA Art\n",
       "2  3  MSc CSM\n",
       "3  4   BSc CS\n",
       "4  5  MSc eBM"
      ]
     },
     "execution_count": 4,
     "metadata": {},
     "output_type": "execute_result"
    }
   ],
   "source": [
    "# create example dataframe\n",
    "df = pd.DataFrame({\"a\": [1,2,3,4,5], \"degree\": [\"MSc eBM\", \"BA Art\", \"MSc CSM\", \"BSc CS\", \"MSc eBM\"]})\n",
    "df"
   ]
  },
  {
   "cell_type": "markdown",
   "metadata": {},
   "source": [
    "We want to split this data into degree type and subject. There are lots of ways of doing this but we can do it using a deliminator:"
   ]
  },
  {
   "cell_type": "code",
   "execution_count": 5,
   "metadata": {},
   "outputs": [
    {
     "data": {
      "text/html": [
       "<div>\n",
       "<style scoped>\n",
       "    .dataframe tbody tr th:only-of-type {\n",
       "        vertical-align: middle;\n",
       "    }\n",
       "\n",
       "    .dataframe tbody tr th {\n",
       "        vertical-align: top;\n",
       "    }\n",
       "\n",
       "    .dataframe thead th {\n",
       "        text-align: right;\n",
       "    }\n",
       "</style>\n",
       "<table border=\"1\" class=\"dataframe\">\n",
       "  <thead>\n",
       "    <tr style=\"text-align: right;\">\n",
       "      <th></th>\n",
       "      <th>a</th>\n",
       "      <th>degree</th>\n",
       "      <th>subject</th>\n",
       "    </tr>\n",
       "  </thead>\n",
       "  <tbody>\n",
       "    <tr>\n",
       "      <th>0</th>\n",
       "      <td>1</td>\n",
       "      <td>MSc</td>\n",
       "      <td>eBM</td>\n",
       "    </tr>\n",
       "    <tr>\n",
       "      <th>1</th>\n",
       "      <td>2</td>\n",
       "      <td>BA</td>\n",
       "      <td>Art</td>\n",
       "    </tr>\n",
       "    <tr>\n",
       "      <th>2</th>\n",
       "      <td>3</td>\n",
       "      <td>MSc</td>\n",
       "      <td>CSM</td>\n",
       "    </tr>\n",
       "    <tr>\n",
       "      <th>3</th>\n",
       "      <td>4</td>\n",
       "      <td>BSc</td>\n",
       "      <td>CS</td>\n",
       "    </tr>\n",
       "    <tr>\n",
       "      <th>4</th>\n",
       "      <td>5</td>\n",
       "      <td>MSc</td>\n",
       "      <td>eBM</td>\n",
       "    </tr>\n",
       "  </tbody>\n",
       "</table>\n",
       "</div>"
      ],
      "text/plain": [
       "   a degree subject\n",
       "0  1    MSc     eBM\n",
       "1  2     BA     Art\n",
       "2  3    MSc     CSM\n",
       "3  4    BSc      CS\n",
       "4  5    MSc     eBM"
      ]
     },
     "execution_count": 5,
     "metadata": {},
     "output_type": "execute_result"
    }
   ],
   "source": [
    "df[['degree', 'subject']] = df['degree'].str.split(' ', 1, expand=True)\n",
    "df"
   ]
  },
  {
   "cell_type": "markdown",
   "metadata": {},
   "source": [
    "## Filling Missing Values"
   ]
  },
  {
   "cell_type": "markdown",
   "metadata": {},
   "source": [
    "We have looked at one way of doing this in a previous Notebook - deleting the row - but in fact there are a few options in _pandas:_"
   ]
  },
  {
   "cell_type": "code",
   "execution_count": 6,
   "metadata": {},
   "outputs": [
    {
     "name": "stdout",
     "output_type": "stream",
     "text": [
      "     a  hasPhD?\n",
      "0  1.0      1.0\n",
      "1  2.0      0.0\n",
      "2  3.0      NaN\n",
      "3  4.0      0.0\n",
      "4  NaN      0.0\n",
      "\n",
      "\n",
      "Drop rows\n",
      "     a  hasPhD?\n",
      "0  1.0      1.0\n",
      "1  2.0      0.0\n",
      "3  4.0      0.0\n",
      "\n",
      "\n",
      "Column mean\n",
      "     a  hasPhD?\n",
      "0  1.0     1.00\n",
      "1  2.0     0.00\n",
      "2  3.0     0.25\n",
      "3  4.0     0.00\n",
      "4  2.5     0.00\n",
      "\n",
      "\n",
      "Row mean\n",
      "     a  hasPhD?\n",
      "0  1.0      1.0\n",
      "1  2.0      0.0\n",
      "2  3.0      3.0\n",
      "3  4.0      0.0\n",
      "4  0.0      0.0\n"
     ]
    }
   ],
   "source": [
    "# DataFrame with missing data\n",
    "df = pd.DataFrame({\"a\": [1,2,3,4,None], \"hasPhD?\": [1, 0, None, 0, 0]})\n",
    "print(df)\n",
    "print(\"\\n\")\n",
    "\n",
    "# drop rows with missing data\n",
    "dfdrop = df.dropna() \n",
    "print(\"Drop rows\")\n",
    "print(dfdrop)\n",
    "print(\"\\n\")\n",
    "\n",
    "# replace NAs with column mean\n",
    "dfcol = df.fillna(df.mean()) \n",
    "print(\"Column mean\")\n",
    "print(dfcol)\n",
    "print(\"\\n\")\n",
    "\n",
    "# row mean\n",
    "dfrow = df.apply(lambda row: row.fillna(row.mean()), axis=1)\n",
    "print(\"Row mean\")\n",
    "print(dfrow)"
   ]
  },
  {
   "cell_type": "markdown",
   "metadata": {},
   "source": [
    "## Normalising Data"
   ]
  },
  {
   "cell_type": "markdown",
   "metadata": {},
   "source": [
    "When using data as features in machine learning we often want to ensure they are on the same scale or otherwise the features that are on the largest scale  will have the most influence on the model (e.g. \"a\" is on a scale of 0 to 1; \"b\" is on a scale -100 to 10,000 ... \"b\" will be more influential). There are a few methods to do this:"
   ]
  },
  {
   "cell_type": "code",
   "execution_count": 7,
   "metadata": {},
   "outputs": [
    {
     "name": "stdout",
     "output_type": "stream",
     "text": [
      "   a  salary\n",
      "0  1  100000\n",
      "1  2     100\n",
      "2  3   20000\n",
      "3  4       0\n",
      "4  5  123456\n",
      "\n",
      "\n",
      "Mean normalised\n",
      "   a    salary\n",
      "0  1  0.873912\n",
      "1  2 -0.828288\n",
      "2  3 -0.489211\n",
      "3  4 -0.829992\n",
      "4  5  1.273579\n",
      "\n",
      "\n",
      "Min/max normalised\n",
      "   a    salary\n",
      "0  1  0.810005\n",
      "1  2  0.000810\n",
      "2  3  0.162001\n",
      "3  4  0.000000\n",
      "4  5  1.000000\n",
      "\n",
      "\n",
      "     a    salary\n",
      "0 -1.0  0.800801\n",
      "1 -0.5 -0.199199\n",
      "2  0.0  0.000000\n",
      "3  0.5 -0.200200\n",
      "4  1.0  1.035596\n"
     ]
    }
   ],
   "source": [
    "df = pd.DataFrame({\"a\": [1,2,3,4,5], \"salary\": [100000, 100, 20000, 0, 123456]})\n",
    "print(df)\n",
    "print(\"\\n\")\n",
    "\n",
    "# mean normalisation\n",
    "df[\"salary\"] = (df[\"salary\"] - df[\"salary\"].mean()) / df[\"salary\"].std()\n",
    "print(\"Mean normalised\")\n",
    "print(df)\n",
    "print(\"\\n\")\n",
    "\n",
    "# min-max normalisation (feature scaling)\n",
    "df = pd.DataFrame({\"a\": [1,2,3,4,5], \"salary\": [100000, 100, 20000, 0, 123456]})\n",
    "df[\"salary\"] = (df[\"salary\"] - df[\"salary\"].min()) / (df[\"salary\"].max() -df[\"salary\"].min())\n",
    "print(\"Min/max normalised\")\n",
    "print(df)\n",
    "print(\"\\n\")\n",
    "\n",
    "# robust scaling (via scikit-learn)\n",
    "# Similar to min-max but uses IQR so is robust to outliers\n",
    "from sklearn.preprocessing import RobustScaler\n",
    "\n",
    "df = pd.DataFrame({\"a\": [1,2,3,4,5], \"salary\": [100000, 100, 20000, 0, 123456]})\n",
    "\n",
    "scaler = RobustScaler()\n",
    "df = scaler.fit_transform(df)\n",
    "df = pd.DataFrame(df, columns=['a', 'salary'])\n",
    "\n",
    "print(df)"
   ]
  },
  {
   "cell_type": "markdown",
   "metadata": {},
   "source": [
    "## Aggregation and GroupBy"
   ]
  },
  {
   "cell_type": "markdown",
   "metadata": {},
   "source": [
    "We use the groupby function when we want to change the unit of aggregation of a DataFrame. For instance, we may have a DataFrame that has 1x row per day and we want to aggregate up to 1x row per month:"
   ]
  },
  {
   "cell_type": "code",
   "execution_count": 8,
   "metadata": {},
   "outputs": [
    {
     "name": "stdout",
     "output_type": "stream",
     "text": [
      "  Team  salary\n",
      "0   DS  100000\n",
      "1   DT     100\n",
      "2   DT   20000\n",
      "3   DS       0\n",
      "4   DS  100000\n",
      "\n",
      "\n",
      "Aggregation by mean\n",
      "            salary\n",
      "Team              \n",
      "DS    66666.666667\n",
      "DT    10050.000000\n",
      "\n",
      "\n",
      "Aggregation by mean\n",
      "      salary\n",
      "Team        \n",
      "DS    200000\n",
      "DT     20100\n",
      "\n",
      "\n",
      "Aggregation by Median\n",
      "      salary\n",
      "Team        \n",
      "DS    100000\n",
      "DT     10050\n",
      "\n",
      "\n",
      "Aggregation by Maximum\n",
      "      salary\n",
      "Team        \n",
      "DS    100000\n",
      "DT     20000\n",
      "\n",
      "\n",
      "Removed levels\n",
      "  Team        salary\n",
      "0   DS  66666.666667\n",
      "1   DT  10050.000000\n"
     ]
    }
   ],
   "source": [
    "df = pd.DataFrame({\"Team\": [\"DS\", \"DT\", \"DT\", \"DS\", \"DS\"], \"salary\": [100000, 100, 20000, 0, 100000]})\n",
    "print(df)\n",
    "print(\"\\n\")\n",
    "\n",
    "# team based aggregation (average)\n",
    "mean_df = df.groupby(['Team']).mean()\n",
    "print(\"Aggregation by mean\")\n",
    "print(mean_df)\n",
    "print(\"\\n\")\n",
    "\n",
    "# team based aggregation (sum)\n",
    "sum_df = df.groupby(['Team']).sum()\n",
    "print(\"Aggregation by mean\")\n",
    "print(sum_df)\n",
    "print(\"\\n\")\n",
    "\n",
    "# team based aggregation (median)\n",
    "median_df = df.groupby(['Team']).median()\n",
    "print(\"Aggregation by Median\")\n",
    "print(median_df)\n",
    "print(\"\\n\")\n",
    "\n",
    "# team based aggregation (maximum)\n",
    "max_df = df.groupby(['Team']).max()\n",
    "print(\"Aggregation by Maximum\")\n",
    "print(max_df)\n",
    "print(\"\\n\")\n",
    "\n",
    "# remove levels\n",
    "mean_df = mean_df.reset_index()\n",
    "print(\"Removed levels\")\n",
    "print(mean_df)"
   ]
  },
  {
   "cell_type": "markdown",
   "metadata": {},
   "source": [
    "Related - populating a column from a dictionary lookup:"
   ]
  },
  {
   "cell_type": "code",
   "execution_count": 9,
   "metadata": {},
   "outputs": [
    {
     "name": "stdout",
     "output_type": "stream",
     "text": [
      "   id  salary    name\n",
      "0   3  100000    John\n",
      "1   1     100  Liping\n",
      "2   2   20000  Jordan\n",
      "3   4       0   James\n",
      "4  10  100000    None\n"
     ]
    }
   ],
   "source": [
    "# populating a dataframe column by dictionary lookup\n",
    "mydict = {1: \"Liping\", 2: \"Jordan\", 3: \"John\", 4: \"James\"}\n",
    "df = pd.DataFrame({\"id\": [3, 1, 2, 4, 10], \"salary\": [100000, 100, 20000, 0, 100000]})\n",
    "\n",
    "df[\"name\"]= pd.Series([mydict.get(id, \"None\") for id in df[\"id\"]], index = df.index)\n",
    "print(df)"
   ]
  },
  {
   "cell_type": "markdown",
   "metadata": {},
   "source": [
    "_The code here uses a \"series\" to do a dictionary lookup. The command for the lookup is __dictionary__.get(). The brackets include the value we are looking up (in this case \"id\") and what to return if nothing is available (if the id is not in the dictionary). In this case, if the id is not in the dictionary the value will be listed as “None”. The last part just says this is a for loop for every “id” in the DataFrame's id column, and that we will use every row (index = df.index)_"
   ]
  },
  {
   "cell_type": "markdown",
   "metadata": {},
   "source": [
    "## Working with DateTime Objects"
   ]
  },
  {
   "cell_type": "markdown",
   "metadata": {},
   "source": [
    "In this last part we will use _pandas'_ date/time functionality for feature engineering:"
   ]
  },
  {
   "cell_type": "code",
   "execution_count": 10,
   "metadata": {},
   "outputs": [
    {
     "name": "stdout",
     "output_type": "stream",
     "text": [
      "   id  salary         dob\n",
      "0   3  100000  10/01/1950\n",
      "1   1     100  01/01/1990\n",
      "2   2   20000  01/01/1980\n",
      "3   4       0  12/12/1981\n",
      "4  10  100000  13/06/1981\n",
      "\n",
      "\n",
      "   id  salary        dob  Year  Month  Day  Hour  Minute\n",
      "0   3  100000 1950-01-10  1950      1   10     0       0\n",
      "1   1     100 1990-01-01  1990      1    1     0       0\n",
      "2   2   20000 1980-01-01  1980      1    1     0       0\n",
      "3   4       0 1981-12-12  1981     12   12     0       0\n",
      "4  10  100000 1981-06-13  1981      6   13     0       0\n",
      "\n",
      "\n",
      "   id  salary        dob  Year  Month  Day  Hour  Minute   Age\n",
      "0   3  100000 1950-01-10  1950      1   10     0       0  72.1\n",
      "1   1     100 1990-01-01  1990      1    1     0       0  32.1\n",
      "2   2   20000 1980-01-01  1980      1    1     0       0  42.1\n",
      "3   4       0 1981-12-12  1981     12   12     0       0  40.1\n",
      "4  10  100000 1981-06-13  1981      6   13     0       0  40.6\n"
     ]
    }
   ],
   "source": [
    "df = pd.DataFrame({\"id\": [3, 1, 2, 4, 10], \"salary\": [100000, 100, 20000, 0, 100000], \"dob\": [\"10/01/1950\", \"01/01/1990\", \"01/01/1980\", \"12/12/1981\", \"13/06/1981\"]})\n",
    "print(df)\n",
    "\n",
    "# convert a column which has a date stored as string, into a column \n",
    "# stored as date. dayfirst=True means we use the UK style of date \n",
    "# (DDMMYYYY) rather than US (MMDDYYYY)\n",
    "df['dob'] = pd.to_datetime(df['dob'], dayfirst=True)\n",
    "\n",
    "# from a date object create cols for year, month, day, hour and minute\n",
    "df['Year'] =  pd.DatetimeIndex(df['dob']).year\n",
    "df['Month'] = pd.DatetimeIndex(df['dob']).month\n",
    "df['Day'] = pd.DatetimeIndex(df['dob']).day\n",
    "df['Hour'] = pd.DatetimeIndex(df['dob']).hour\n",
    "df['Minute'] = pd.DatetimeIndex(df['dob']).minute\n",
    "\n",
    "print(\"\\n\")\n",
    "print(df)\n",
    "\n",
    "# work out age by substracting the DOB from the date today\n",
    "# note this is much harder than you may think it would be because years\n",
    "# are different lengths and so ambiguous\n",
    "df[\"Age\"] = pd.to_datetime(\"today\", dayfirst=True)-df['dob']\n",
    "df[\"Age\"] = round(df.Age.dt.days / 365, 1)\n",
    "\n",
    "print(\"\\n\")\n",
    "print(df)"
   ]
  },
  {
   "cell_type": "code",
   "execution_count": null,
   "metadata": {},
   "outputs": [],
   "source": []
  }
 ],
 "metadata": {
  "kernelspec": {
   "display_name": "Python 3",
   "language": "python",
   "name": "python3"
  },
  "language_info": {
   "codemirror_mode": {
    "name": "ipython",
    "version": 3
   },
   "file_extension": ".py",
   "mimetype": "text/x-python",
   "name": "python",
   "nbconvert_exporter": "python",
   "pygments_lexer": "ipython3",
   "version": "3.8.8"
  }
 },
 "nbformat": 4,
 "nbformat_minor": 4
}
