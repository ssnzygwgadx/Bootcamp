{
 "cells": [
  {
   "cell_type": "markdown",
   "metadata": {},
   "source": [
    "# Decision Tree Classification (part two)"
   ]
  },
  {
   "cell_type": "code",
   "execution_count": 1,
   "metadata": {},
   "outputs": [],
   "source": [
    "# the code from the last work book\n",
    "from sklearn.datasets import load_breast_cancer\n",
    "from sklearn.tree import DecisionTreeClassifier as DTC\n",
    "\n",
    "import pandas as pd\n",
    "import numpy as np\n",
    "\n",
    "# import the data\n",
    "data = load_breast_cancer()\n",
    "\n",
    "# 1. create a DataFrame of features ; .data()可以获取通过data-*属性存储的值\n",
    "cancer_df = pd.DataFrame(data.data, columns=data.feature_names)\n",
    "\n",
    "# 2. normalise the data\n",
    "from sklearn.preprocessing import RobustScaler\n",
    "\n",
    "scaler = RobustScaler()\n",
    "df = scaler.fit_transform(cancer_df)\n",
    "cancer_df = pd.DataFrame(df, columns=data.feature_names)\n",
    "\n",
    "# 3. create a target variable\n",
    "cancer_target = data.target\n",
    "\n",
    "# 4. split data into training and test\n",
    "from sklearn.model_selection  import train_test_split\n",
    "X_train, X_test, Y_train, Y_test = train_test_split(cancer_df, cancer_target, test_size = 0.2)\n",
    "\n",
    "# 5. fit a decision tree to the training data\n",
    "tree_model = DTC()\n",
    "tree_model_fit = tree_model.fit(X_train, Y_train)"
   ]
  },
  {
   "cell_type": "code",
   "execution_count": null,
   "metadata": {},
   "outputs": [],
   "source": [
    "# 在机器学习领域，混淆矩阵（confusion matrix），又称为可能性表格或是错误矩阵。\n",
    "#它是一种特定的矩阵用来呈现算法性能的可视化效果，通常是监督学习（非监督学习，通常用匹配矩阵：matching matrix）。\n",
    "#其每一列代表预测值，每一行代表的是实际的类别。这个名字来源于它可以非常容易的表明多个类别是否有混淆（也就是一个class被预测成另一个class）。\n"
   ]
  },
  {
   "cell_type": "code",
   "execution_count": 2,
   "metadata": {},
   "outputs": [],
   "source": [
    "from sklearn.metrics import confusion_matrix\n",
    "import matplotlib.pyplot as plt\n",
    "from sklearn.utils.multiclass import unique_labels\n",
    "%matplotlib inline\n",
    "\n",
    "np.set_printoptions(precision=2) # 结果保留两位小数\n",
    "\n",
    "def plot_confusion_matrix(y_true, y_pred, classes,\n",
    "                          normalise=False,\n",
    "                          title=None,\n",
    "                          cmap=plt.cm.Blues,\n",
    "                          multi=False):\n",
    "    \"\"\"\n",
    "    This function prints and plots the confusion matrix.\n",
    "    Normalization can be applied by setting `normalise=True`.\n",
    "    \"\"\"\n",
    "    if not title:\n",
    "        if normalise:\n",
    "            title = 'Normalised confusion matrix'\n",
    "        else:\n",
    "            title = 'Confusion matrix, without normalisation'\n",
    "\n",
    "    # Compute confusion matrix\n",
    "    cm = confusion_matrix(y_true, y_pred)\n",
    "    \n",
    "    # Only use the labels that appear in the data                     ？？？？\n",
    "    if multi==True:\n",
    "    \tclasses = classes[unique_labels(y_true, y_pred)]\n",
    "    if normalise:\n",
    "        cm = cm.astype('float') / cm.sum(axis=1)[:, np.newaxis]\n",
    "\n",
    "    fig, ax = plt.subplots()\n",
    "    im = ax.imshow(cm, interpolation='nearest', cmap=cmap)\n",
    "    ax.figure.colorbar(im, ax=ax)\n",
    "    # We want to show all ticks...\n",
    "    ax.set(xticks=np.arange(cm.shape[1]),\n",
    "           yticks=np.arange(cm.shape[0]),\n",
    "           # ... and label them with the respective list entries\n",
    "           xticklabels=classes, yticklabels=classes,\n",
    "           title=title,\n",
    "           ylabel='True label',\n",
    "           xlabel='Predicted label')\n",
    "\n",
    "    # Rotate the tick labels and set their alignment. 旋转标记标签并设置它们的对齐方式。\n",
    "    plt.setp(ax.get_xticklabels(), rotation=45, ha=\"right\",\n",
    "             rotation_mode=\"anchor\");\n",
    "\n",
    "    fmt = '.2f' if normalise else 'd'\n",
    "    thresh = cm.max() / 2\n",
    "    for i in range(cm.shape[0]):\n",
    "        for j in range(cm.shape[1]):\n",
    "            ax.text(j, i, format(cm[i, j], fmt),\n",
    "                    ha=\"center\", va=\"center\",\n",
    "                    color=\"white\" if cm[i, j] > thresh else \"black\")\n",
    "    fig.tight_layout()\n",
    "\n",
    "    return ax"
   ]
  },
  {
   "cell_type": "code",
   "execution_count": 3,
   "metadata": {},
   "outputs": [
    {
     "data": {
      "text/plain": [
       "<AxesSubplot:title={'center':'Normalised confusion matrix'}, xlabel='Predicted label', ylabel='True label'>"
      ]
     },
     "execution_count": 3,
     "metadata": {},
     "output_type": "execute_result"
    },
    {
     "data": {
      "image/png": "[encoded data removed]",
      "text/plain": [
       "<Figure size 432x288 with 2 Axes>"
      ]
     },
     "metadata": {
      "needs_background": "light"
     },
     "output_type": "display_data"
    },
    {
     "data": {
      "image/png": "[encoded data removed]",
      "text/plain": [
       "<Figure size 432x288 with 2 Axes>"
      ]
     },
     "metadata": {
      "needs_background": "light"
     },
     "output_type": "display_data"
    }
   ],
   "source": [
    "# predict the test data\n",
    "predicted = tree_model_fit.predict(X_test)\n",
    "\n",
    "# Plot non-normalised confusion matrix\n",
    "plot_confusion_matrix(Y_test, predicted, classes=[\"0\", \"1\"])\n",
    "\n",
    "# Plot normalised confusion matrix\n",
    "plot_confusion_matrix(Y_test, predicted, classes=[\"0\", \"1\"], normalise=True)"
   ]
  },
  {
   "cell_type": "code",
   "execution_count": 4,
   "metadata": {},
   "outputs": [
    {
     "name": "stdout",
     "output_type": "stream",
     "text": [
      "# Tuning hyperparameters for accuracy\n",
      "\n",
      "\n",
      "Best parameters set found on the training set:\n",
      "{'criterion': 'gini', 'max_depth': 5, 'max_features': 'sqrt', 'min_samples_split': 5}\n",
      "\n",
      "\n",
      "# Tuning hyperparameters for f1_macro\n",
      "\n",
      "\n",
      "Best parameters set found on the training set:\n",
      "{'criterion': 'gini', 'max_depth': 7, 'max_features': 'sqrt', 'min_samples_split': 7}\n",
      "\n",
      "\n"
     ]
    }
   ],
   "source": [
    "from sklearn.model_selection import GridSearchCV\n",
    "\n",
    "tuned_parameters = [{'criterion': ['gini', 'entropy'],\n",
    "                     'max_depth': [3, 5, 7],\n",
    "                     'min_samples_split': [3, 5, 7],\n",
    "                     'max_features': [\"sqrt\", \"log2\", None]}]\n",
    "\n",
    "scores = ['accuracy', 'f1_macro']\n",
    "\n",
    "for score in scores:\n",
    "    print(\"# Tuning hyperparameters for %s\" % score)\n",
    "    print(\"\\n\")\n",
    "    clf = GridSearchCV(DTC(), tuned_parameters, cv=5,\n",
    "                       scoring= score)\n",
    "    clf.fit(X_train, Y_train)\n",
    "    print(\"Best parameters set found on the training set:\")\n",
    "    print(clf.best_params_)\n",
    "    print(\"\\n\")"
   ]
  },
  {
   "cell_type": "code",
   "execution_count": 5,
   "metadata": {},
   "outputs": [
    {
     "data": {
      "text/plain": [
       "<AxesSubplot:title={'center':'Normalised confusion matrix'}, xlabel='Predicted label', ylabel='True label'>"
      ]
     },
     "execution_count": 5,
     "metadata": {},
     "output_type": "execute_result"
    },
    {
     "data": {
      "image/png": "[encoded data removed]",
      "text/plain": [
       "<Figure size 432x288 with 2 Axes>"
      ]
     },
     "metadata": {
      "needs_background": "light"
     },
     "output_type": "display_data"
    },
    {
     "data": {
      "image/png": "[encoded data removed]",
      "text/plain": [
       "<Figure size 432x288 with 2 Axes>"
      ]
     },
     "metadata": {
      "needs_background": "light"
     },
     "output_type": "display_data"
    }
   ],
   "source": [
    "# fit model with new hyperparameters\n",
    "tree_model = DTC(criterion='entropy', max_depth=5, max_features='log2', min_samples_split=3)\n",
    "tree_model_fit = tree_model.fit(X_train, Y_train)\n",
    "\n",
    "# predict the test data\n",
    "predicted = tree_model_fit.predict(X_test)\n",
    "\n",
    "# Plot non-normalised confusion matrix\n",
    "plot_confusion_matrix(Y_test, predicted, classes=[\"0\", \"1\"])\n",
    "\n",
    "# Plot normalised confusion matrix\n",
    "plot_confusion_matrix(Y_test, predicted, classes=[\"0\", \"1\"], normalise=True)"
   ]
  },
  {
   "cell_type": "code",
   "execution_count": null,
   "metadata": {},
   "outputs": [],
   "source": []
  }
 ],
 "metadata": {
  "kernelspec": {
   "display_name": "Python 3",
   "language": "python",
   "name": "python3"
  },
  "language_info": {
   "codemirror_mode": {
    "name": "ipython",
    "version": 3
   },
   "file_extension": ".py",
   "mimetype": "text/x-python",
   "name": "python",
   "nbconvert_exporter": "python",
   "pygments_lexer": "ipython3",
   "version": "3.8.8"
  }
 },
 "nbformat": 4,
 "nbformat_minor": 4
}
